{
 "cells": [
  {
   "cell_type": "markdown",
   "metadata": {},
   "source": [
    "<h1 style=\"font-family:Courier;font-weight:bold;font-size:40px;\">Stats: Data & Models (De Veaux, Velleman & Bock)[Chapters 1-3]</h1> "
   ]
  },
  {
   "cell_type": "markdown",
   "metadata": {},
   "source": [
    "<h1 style=\"font-family:Courier;font-weight:bold;font-size:30px;\">Chapter1:Understanding Data</h1>\n",
    "*Data: any collection on numbers, characters, images or other items that provide info about something\n",
    "\n",
    "*Cases: The rows of a data table correspond to cases (about whom, which or what)\n",
    "\n",
    "*Respondents: Individuals who answer a survey\n",
    "\n",
    "*Subjects: People on whom we experiment\n",
    "\n",
    "*Experimental Units: Inanimate objects that are subjects (animals, plants, websites...)\n",
    "\n",
    "*Records: Rows of data in a database\n",
    "\n",
    "-The leftmost column of a table often identifies the cases\n",
    "\n",
    "*Sample: Cases are often a sample from a larger population\n",
    "\n",
    "*Variables: Characteristics recorded about each individual\n",
    "\n",
    "*Categorical/Qualitative Variable: Variables that tell us what group or category each invividual belongs to.\n",
    "These are also called nominal variables.\n",
    "\n",
    "*Quantitative Variables: When a variable contains measured numerical values with measurement units.  These\n",
    "typically record an amount or degree of something.\n",
    "\n",
    "*Identifier Variable: Each individual receives a unique value (such as a student ID).  There end up being as\n",
    "many unique values as there are cases.\n",
    "\n",
    "<hr>"
   ]
  },
  {
   "cell_type": "markdown",
   "metadata": {},
   "source": [
    "<h1 style=\"font-family:Courier;font-weight:bold;font-size:30px;\">Chapter2:Qualitative Variables</h1>\n",
    "*Frequency Table: Records the totals and uses the category names to label each row\n",
    "\n",
    "*Relative Frequency Table: Displays percentages rather than counts.\n",
    "\n",
    "-Frequency tables describe the DISTRIBUTION of a categorical variable because they name the possible categories and\n",
    "tell how frequently each occurs.\n",
    "\n",
    "*Bar Chart: Displays the distribution of a categorical variable, showing the counts for each category next to each other\n",
    "for easy comparison.\n",
    "\n",
    "*Relative Frequency Bar Chart: Replaces the numerical counts with the relative percentages of each category.\n",
    "\n",
    "*Pie Chart: Shows the whole group of cases as a circle.  Each case makes up a proportion of the circle.\n",
    "\n",
    "-If you want to make a relative frequency bar or pie chart, you need to make sure the categories don't overlap so that\n",
    "no individual is counted twice.\n",
    "\n",
    "*Contingency Table: How cases are distributed along each variable, contingent on a value of another variable.  Example:\n",
    "a table listing survivors on the Titanic.  The far left column would stack 'Alive','Dead'; the columns would display\n",
    "the various classes, and finally totals...\n",
    "\n",
    "*Marginal Distribution: In the margins of a contingency table, the frequency distribution of one of the variables is called\n",
    "its marginal distribution.  The marginal distribution can be listed as either counts or percentages.\n",
    "\n",
    "*Conditional Distribution: Show the distribution onf one variable for just those cases that satisfy a condition on another variable.\n",
    "\n",
    "-The best way to determine whether or not two variables are associated, is to find out if they are not...\n",
    "-In a contingency table, when the distribution of one variable is the same for all categories of another, we say that the variables are\n",
    "independent.  This tells us that there is no association between the variables.\n",
    "\n",
    "*Simpson's Paradox: Combining percentages over qualitatively different groups.  Example: a pilot's on time flight percentage, combining\n",
    "both flights at night and flights during the day.  Are they the same?\n",
    "\n",
    "<hr>"
   ]
  },
  {
   "cell_type": "markdown",
   "metadata": {},
   "source": [
    "<h1 style=\"font-family:Courier;font-weight:bold;font-size:30px;\">Chapter 3: Quantitative Variables</h1>"
   ]
  },
  {
   "cell_type": "markdown",
   "metadata": {},
   "source": [
    "$\\sum_{i=0}^n i^2 = \\frac{(n^2+n)(2n+1)}{6}$"
   ]
  },
  {
   "cell_type": "markdown",
   "metadata": {},
   "source": [
    "-For quantitative variables, all possible values are sliced up into bins.  The number of cases that fall into these bin-ranges are then counted.\n",
    "\n",
    "*Distribution: the bins, together with the counts give the distribution of the quantitative variable\n",
    "\n",
    "*Histogram: building blocks built up by the bins, creating the display of the distribution.  Typically display\n",
    "ed as bars and plotted against\n",
    "the bins.\n",
    "\n",
    "*Relative Frequency Histogram: Replaces the counts on the vertical axis with the percentage of the total numbe\n",
    "r of cases falling in each bin.\n",
    "\n",
    "-Histograms show the distribution of a quantitative variable, but not the variable values themselves.\n",
    "\n",
    "*Stem and Leaf Display: Like a histogram, but showing the individual values\n",
    "        \n",
    "        1|00123\n",
    "        2|11256\n",
    "        3|366789\n",
    "        4|012333456\n",
    "        5|0001112       \n",
    "        \n",
    "**This stem and leaf would be showing bins 10-50, stem is the tenth, leaf is the hundr\n",
    "edth\n",
    "\n",
    "*Dotplot: Places a dot along an axis for each case in the data.\n",
    "\n",
    "*Quantitative Data Condition: The data are values of a quantitative variable whos units are known\n",
    "\n",
    "-You can't display categorical data in a histogram or quantitative data in a bar chart\n",
    "-When describing a distribution, you should always start by talking about: shape, center and spread\n",
    "\n",
    "Q?: Does the histogram have a single, central hump or several seperated?  The humps are called modes.\n",
    "        >Unimodal: one specific peak\n",
    "        >Bimodal: two peaks\n",
    "        >Multimodal: three or more peaks\n",
    "        >Uniform: a histogram that doesn't appear to have any mode\n",
    "\n",
    "Q?: Is the histogram symmetric?\n",
    "        >The typically thinner ends are called tails\n",
    "        >If one tail stretches out farther than the other, the histogram is said to be skewed to the \n",
    "         side of the longer tail\n",
    "\n",
    "Q?: Do any features stick out?\n",
    "        >stragglers or outliers should be described that stand away from the distribution.\n",
    "\n",
    "-Gaps in the histogram may help us see multiple modes and encourage us to notice when data may come from diffe\n",
    "rent sources"
   ]
  },
  {
   "cell_type": "markdown",
   "metadata": {},
   "source": [
    "Gaps in the histogram may help us see multiple modes and encourage us to notice when data may come from different sources\n",
    "\n",
    "Center: Where could you fold the histogram, so that it is relatively symmetrical on both sides?\n",
    "\n",
    "Median: The middle value that divides the histogram into two equal areas\n",
    "        *for an odd number of cases, median value is found at position:\n",
    "        \n",
    "$$\\frac{n + 1}{2}$$\n",
    "        \n",
    "        *for an even number of cases, the average of the two central points is taken:\n",
    "                \n",
    "$$\\frac{(\\frac{n}{2}+\\frac{n+1}{2})}{2}$$\n",
    "\n",
    "Spread: How much the data values vary around the center.\n",
    "\n",
    "Range: The difference between the maximum and minimum values.  A single value, not a set of numbers.\n",
    "\n",
    "Interquartile Range: Divide the data in half at the median, then divide both halves again.\n",
    "        >lower quartile is the median of the lower half of the data split at the median\n",
    "        >upper quartile is the median of the upper half of the data split at the median\n",
    "\n",
    "-!!!! When n is odd, the book recommends including the median in both the upper and lower quartile values"
   ]
  },
  {
   "cell_type": "markdown",
   "metadata": {},
   "source": [
    "-A simple way to find the quartiles is to start by splitting the batch into two halves at the median.  When n\n",
    "is odd, some statisticians include the median in both halves.  The lower quartile is the median of the lower\n",
    "half, the upper quartile is the median of the upper half\n",
    "\n",
    "*Interquartile Range (IQR): Difference between the upper and lower quartiles\n",
    "\n",
    "-The IQR is generally very revelatory, unless the data is strongly bi-modal\n",
    "\n",
    "*5 Number Summary:\n",
    "        >Max\n",
    "        >Q3\n",
    "        >Median\n",
    "        >Q1\n",
    "        >Min\n",
    "\n",
    "*Boxplot: Once we have our 5 number summary, we can display the information in a boxplot\n",
    "        1. Draw a single vertical axis spanning the extent of the data.  Draw short horizontal\n",
    "           at the lower and upper quartiles and at the median.  Connect them with vertical lines\n",
    "           to form a box.\n",
    "        2. To construct the boxplot, erect \"fences\" around the main part of the data.  Place the\n",
    "           upper fence 1.5 IQR's above the upper quartile and lower fence.  The fences are just a\n",
    "           region, draw them as a dotted line.\n",
    "        3. The fences are used to construct the whiskers, the whiskers represent a horizontal line\n",
    "           representing the farthest outlier within the fences.\n",
    "        4. We represent the far outliers beyond the fences with special symbols such as dots"
   ]
  },
  {
   "cell_type": "markdown",
   "metadata": {},
   "source": [
    "## The Mean\n",
    "$$\\bar y = \\frac{Total}{n} = \\frac{\\sum_y}{n}$$\n",
    "\n",
    "To find the mean, add up all the values of the variable and divide the sum by the number of data values, n.\n",
    "Data are not always well behaved, if the distribution is skewed or has outliers the center is not as well defined.\n",
    "If the histogram is symmetric and there are not outliers, we typically prefer the mean to the median."
   ]
  },
  {
   "cell_type": "markdown",
   "metadata": {},
   "source": [
    "If the histogram is symmetric and there are no outliers, we prefer the mean.<br>\n",
    "If the historgram is skewed or has outliers, we typically prefer the median.<br>\n",
    "When values of a quantitative variable are bounded on one side but not the other, the distribution may be skewed."
   ]
  },
  {
   "cell_type": "markdown",
   "metadata": {},
   "source": [
    "## The Spread of Symmetric Distributions: Standard Deviation\n",
    "Variance: $$s^2 = \\frac{\\sum(y-\\bar y)^2}{n-1}$$\n",
    "\n",
    "The <strong>standard deviation</strong> takes into account how far each data value is from the mean"
   ]
  },
  {
   "cell_type": "markdown",
   "metadata": {},
   "source": [
    "When we add up the squared deviations and find their (near) average, we call the result variance (formula indicated above).\n",
    "\n",
    "The variance has a problem as a measure of spread: it measures the data in squared units.  We need to get back to the original units, therefore we take the square root of the variance thus giving us our standard deviation:\n",
    "\n",
    "$$\\sqrt{s^2 = \\frac{\\sum(y-\\bar y)^2}{n-1}}$$\n",
    "\n",
    "<hr>"
   ]
  }
 ],
 "metadata": {
  "anaconda-cloud": {},
  "kernelspec": {
   "display_name": "Python [default]",
   "language": "python",
   "name": "python3"
  },
  "language_info": {
   "codemirror_mode": {
    "name": "ipython",
    "version": 3
   },
   "file_extension": ".py",
   "mimetype": "text/x-python",
   "name": "python",
   "nbconvert_exporter": "python",
   "pygments_lexer": "ipython3",
   "version": "3.5.2"
  }
 },
 "nbformat": 4,
 "nbformat_minor": 1
}
